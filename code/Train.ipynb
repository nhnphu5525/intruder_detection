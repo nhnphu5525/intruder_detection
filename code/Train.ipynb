{
 "cells": [
  {
   "cell_type": "code",
   "execution_count": 2,
   "metadata": {},
   "outputs": [
    {
     "name": "stdout",
     "output_type": "stream",
     "text": [
      "WARNING ⚠️ torchvision==0.20 is incompatible with torch==2.6.\n",
      "Run 'pip install torchvision==0.21' to fix torchvision or 'pip install -U torch torchvision' to update both.\n",
      "For a full compatibility table see https://github.com/pytorch/vision#installation\n"
     ]
    }
   ],
   "source": [
    "from ultralytics import YOLO\n",
    "from pathlib import Path\n",
    "import yaml\n",
    "import random\n",
    "import shutil\n",
    "from IPython.display import display, Markdown"
   ]
  },
  {
   "cell_type": "code",
   "execution_count": null,
   "metadata": {},
   "outputs": [],
   "source": [
    "DATASET_PATH = Path(r\"D:\\NX Hackathon\\Dataset\\Human Detection\")  # Change this to your dataset path\n",
    "IMAGE_DIR = DATASET_PATH / \"images\"\n",
    "LABEL_DIR = DATASET_PATH / \"labels\"\n",
    "CONFIG_FILE = DATASET_PATH / \"human_dataset.yaml\"\n",
    "WEIGHTS_PATH = \"yolo11m.pt\"  # Pretrained weights\n",
    "EPOCHS = 10\n",
    "IMG_SIZE = 640\n",
    "TRAIN_RATIO = 0.8\n",
    "VAL_RATIO = 0.1\n",
    "TEST_RATIO = 0.1"
   ]
  },
  {
   "cell_type": "code",
   "execution_count": 4,
   "metadata": {},
   "outputs": [],
   "source": [
    "def split_dataset():\n",
    "    train_img_dir = IMAGE_DIR / \"train\"\n",
    "    val_img_dir = IMAGE_DIR / \"val\"\n",
    "    test_img_dir = IMAGE_DIR / \"test\"\n",
    "    train_lbl_dir = LABEL_DIR / \"train\"\n",
    "    val_lbl_dir = LABEL_DIR / \"val\"\n",
    "    test_lbl_dir = LABEL_DIR / \"test\"\n",
    "    \n",
    "    for folder in [train_img_dir, val_img_dir, test_img_dir, train_lbl_dir, val_lbl_dir, test_lbl_dir]:\n",
    "        folder.mkdir(parents=True, exist_ok=True)\n",
    "    \n",
    "    image_files = list(IMAGE_DIR.glob(\"*.jpg\"))\n",
    "    random.shuffle(image_files)\n",
    "    \n",
    "    train_split = int(len(image_files) * TRAIN_RATIO)\n",
    "    val_split = max(1, int(len(image_files) * VAL_RATIO))  # Ensure at least 1 image in val\n",
    "    test_split = max(1, len(image_files) - train_split - val_split)  # Ensure at least 1 image in test\n",
    "    \n",
    "    train_files = image_files[:train_split]\n",
    "    val_files = image_files[train_split:train_split + val_split]\n",
    "    test_files = image_files[train_split + val_split:]\n",
    "    \n",
    "    for img_path in train_files:\n",
    "        shutil.move(img_path, train_img_dir / img_path.name)\n",
    "        shutil.move(LABEL_DIR / f\"{img_path.stem}.txt\", train_lbl_dir / f\"{img_path.stem}.txt\")\n",
    "    \n",
    "    for img_path in val_files:\n",
    "        shutil.move(img_path, val_img_dir / img_path.name)\n",
    "        shutil.move(LABEL_DIR / f\"{img_path.stem}.txt\", val_lbl_dir / f\"{img_path.stem}.txt\")\n",
    "    \n",
    "    for img_path in test_files:\n",
    "        shutil.move(img_path, test_img_dir / img_path.name)\n",
    "        shutil.move(LABEL_DIR / f\"{img_path.stem}.txt\", test_lbl_dir / f\"{img_path.stem}.txt\")\n",
    "    \n",
    "    display(Markdown(\"✅ **Dataset split into train/val/test folders. Validation and test sets ensured to have at least one image.**\"))"
   ]
  },
  {
   "cell_type": "code",
   "execution_count": 12,
   "metadata": {},
   "outputs": [],
   "source": [
    "def create_dataset_config():\n",
    "    dataset_config = {\n",
    "        \"path\": str(DATASET_PATH),\n",
    "        \"train\": str(IMAGE_DIR / \"train\"),\n",
    "        \"val\": str(IMAGE_DIR / \"val\"),\n",
    "        \"test\": str(IMAGE_DIR / \"test\"),\n",
    "        \"nc\": 1,  # Number of classes (human detection)\n",
    "        \"names\": [\"human\"]\n",
    "    }\n",
    "    \n",
    "    with open(CONFIG_FILE, \"w\") as f:\n",
    "        yaml.dump(dataset_config, f, default_flow_style=False)\n",
    "    display(Markdown(f\"✅ **Dataset config file created at:** `{CONFIG_FILE}`\"))"
   ]
  },
  {
   "cell_type": "code",
   "execution_count": 13,
   "metadata": {},
   "outputs": [],
   "source": [
    "def download_model():\n",
    "    if not Path(WEIGHTS_PATH).exists():\n",
    "        display(Markdown(\"🔄 **Downloading YOLOv11 pretrained model...**\"))\n",
    "        model = YOLO(\"yolo11m.pt\")  # Automatically downloads if not present\n",
    "        display(Markdown(\"✅ **Model downloaded!**\"))\n",
    "    else:\n",
    "        display(Markdown(\"✅ **Pretrained model already exists. Skipping download.**\"))"
   ]
  },
  {
   "cell_type": "code",
   "execution_count": 14,
   "metadata": {},
   "outputs": [],
   "source": [
    "def train_yolov11():\n",
    "    display(Markdown(\"🚀 **Starting YOLOv11 training...**\"))\n",
    "    model = YOLO(WEIGHTS_PATH)\n",
    "    results = model.train(data=CONFIG_FILE, epochs=EPOCHS, imgsz=IMG_SIZE)\n",
    "    display(Markdown(\"✅ **Training completed!**\"))\n"
   ]
  },
  {
   "cell_type": "code",
   "execution_count": 21,
   "metadata": {},
   "outputs": [
    {
     "data": {
      "text/markdown": [
       "✅ **Dataset split into train/val/test folders. Validation and test sets ensured to have at least one image.**"
      ],
      "text/plain": [
       "<IPython.core.display.Markdown object>"
      ]
     },
     "metadata": {},
     "output_type": "display_data"
    },
    {
     "data": {
      "text/markdown": [
       "✅ **Pretrained model already exists. Skipping download.**"
      ],
      "text/plain": [
       "<IPython.core.display.Markdown object>"
      ]
     },
     "metadata": {},
     "output_type": "display_data"
    }
   ],
   "source": [
    "split_dataset()\n",
    "download_model()"
   ]
  },
  {
   "cell_type": "code",
   "execution_count": 22,
   "metadata": {},
   "outputs": [
    {
     "data": {
      "text/markdown": [
       "✅ **Dataset config file created at:** `D:\\NX Hackathon\\Dataset\\Violence\\human_dataset.yaml`"
      ],
      "text/plain": [
       "<IPython.core.display.Markdown object>"
      ]
     },
     "metadata": {},
     "output_type": "display_data"
    }
   ],
   "source": [
    "create_dataset_config()"
   ]
  },
  {
   "cell_type": "code",
   "execution_count": 24,
   "metadata": {},
   "outputs": [
    {
     "data": {
      "text/markdown": [
       "🚀 **Starting YOLOv11 training...**"
      ],
      "text/plain": [
       "<IPython.core.display.Markdown object>"
      ]
     },
     "metadata": {},
     "output_type": "display_data"
    },
    {
     "name": "stdout",
     "output_type": "stream",
     "text": [
      "New https://pypi.org/project/ultralytics/8.3.80 available  Update with 'pip install -U ultralytics'\n",
      "Ultralytics 8.3.75  Python-3.12.9 torch-2.6.0+cu128.nv CUDA:0 (NVIDIA GeForce RTX 5080, 16303MiB)\n",
      "\u001b[34m\u001b[1mengine\\trainer: \u001b[0mtask=detect, mode=train, model=yolo11m.pt, data=D:\\NX Hackathon\\Dataset\\Violence\\human_dataset.yaml, epochs=5, time=None, patience=100, batch=16, imgsz=640, save=True, save_period=-1, cache=False, device=None, workers=8, project=None, name=train15, exist_ok=False, pretrained=True, optimizer=auto, verbose=True, seed=0, deterministic=True, single_cls=False, rect=False, cos_lr=False, close_mosaic=10, resume=False, amp=True, fraction=1.0, profile=False, freeze=None, multi_scale=False, overlap_mask=True, mask_ratio=4, dropout=0.0, val=True, split=val, save_json=False, save_hybrid=False, conf=None, iou=0.7, max_det=300, half=False, dnn=False, plots=True, source=None, vid_stride=1, stream_buffer=False, visualize=False, augment=False, agnostic_nms=False, classes=None, retina_masks=False, embed=None, show=False, save_frames=False, save_txt=False, save_conf=False, save_crop=False, show_labels=True, show_conf=True, show_boxes=True, line_width=None, format=torchscript, keras=False, optimize=False, int8=False, dynamic=False, simplify=True, opset=None, workspace=None, nms=False, lr0=0.01, lrf=0.01, momentum=0.937, weight_decay=0.0005, warmup_epochs=3.0, warmup_momentum=0.8, warmup_bias_lr=0.1, box=7.5, cls=0.5, dfl=1.5, pose=12.0, kobj=1.0, nbs=64, hsv_h=0.015, hsv_s=0.7, hsv_v=0.4, degrees=0.0, translate=0.1, scale=0.5, shear=0.0, perspective=0.0, flipud=0.0, fliplr=0.5, bgr=0.0, mosaic=1.0, mixup=0.0, copy_paste=0.0, copy_paste_mode=flip, auto_augment=randaugment, erasing=0.4, crop_fraction=1.0, cfg=None, tracker=botsort.yaml, save_dir=runs\\detect\\train15\n",
      "\n",
      "                   from  n    params  module                                       arguments                     \n",
      "  0                  -1  1      1856  ultralytics.nn.modules.conv.Conv             [3, 64, 3, 2]                 \n",
      "  1                  -1  1     73984  ultralytics.nn.modules.conv.Conv             [64, 128, 3, 2]               \n",
      "  2                  -1  1    111872  ultralytics.nn.modules.block.C3k2            [128, 256, 1, True, 0.25]     \n",
      "  3                  -1  1    590336  ultralytics.nn.modules.conv.Conv             [256, 256, 3, 2]              \n",
      "  4                  -1  1    444928  ultralytics.nn.modules.block.C3k2            [256, 512, 1, True, 0.25]     \n",
      "  5                  -1  1   2360320  ultralytics.nn.modules.conv.Conv             [512, 512, 3, 2]              \n",
      "  6                  -1  1   1380352  ultralytics.nn.modules.block.C3k2            [512, 512, 1, True]           \n",
      "  7                  -1  1   2360320  ultralytics.nn.modules.conv.Conv             [512, 512, 3, 2]              \n",
      "  8                  -1  1   1380352  ultralytics.nn.modules.block.C3k2            [512, 512, 1, True]           \n",
      "  9                  -1  1    656896  ultralytics.nn.modules.block.SPPF            [512, 512, 5]                 \n",
      " 10                  -1  1    990976  ultralytics.nn.modules.block.C2PSA           [512, 512, 1]                 \n",
      " 11                  -1  1         0  torch.nn.modules.upsampling.Upsample         [None, 2, 'nearest']          \n",
      " 12             [-1, 6]  1         0  ultralytics.nn.modules.conv.Concat           [1]                           \n",
      " 13                  -1  1   1642496  ultralytics.nn.modules.block.C3k2            [1024, 512, 1, True]          \n",
      " 14                  -1  1         0  torch.nn.modules.upsampling.Upsample         [None, 2, 'nearest']          \n",
      " 15             [-1, 4]  1         0  ultralytics.nn.modules.conv.Concat           [1]                           \n",
      " 16                  -1  1    542720  ultralytics.nn.modules.block.C3k2            [1024, 256, 1, True]          \n",
      " 17                  -1  1    590336  ultralytics.nn.modules.conv.Conv             [256, 256, 3, 2]              \n",
      " 18            [-1, 13]  1         0  ultralytics.nn.modules.conv.Concat           [1]                           \n",
      " 19                  -1  1   1511424  ultralytics.nn.modules.block.C3k2            [768, 512, 1, True]           \n",
      " 20                  -1  1   2360320  ultralytics.nn.modules.conv.Conv             [512, 512, 3, 2]              \n",
      " 21            [-1, 10]  1         0  ultralytics.nn.modules.conv.Concat           [1]                           \n",
      " 22                  -1  1   1642496  ultralytics.nn.modules.block.C3k2            [1024, 512, 1, True]          \n",
      " 23        [16, 19, 22]  1   1411795  ultralytics.nn.modules.head.Detect           [1, [256, 512, 512]]          \n",
      "YOLO11m summary: 409 layers, 20,053,779 parameters, 20,053,763 gradients, 68.2 GFLOPs\n",
      "\n",
      "Transferred 649/649 items from pretrained weights\n",
      "\u001b[34m\u001b[1mTensorBoard: \u001b[0mStart with 'tensorboard --logdir runs\\detect\\train15', view at http://localhost:6006/\n",
      "Freezing layer 'model.23.dfl.conv.weight'\n",
      "\u001b[34m\u001b[1mAMP: \u001b[0mrunning Automatic Mixed Precision (AMP) checks...\n",
      "\u001b[34m\u001b[1mAMP: \u001b[0mchecks passed \n"
     ]
    },
    {
     "name": "stderr",
     "output_type": "stream",
     "text": [
      "\u001b[34m\u001b[1mtrain: \u001b[0mScanning D:\\NX Hackathon\\Dataset\\Violence\\labels\\train... 42932 images, 595 backgrounds, 0 corrupt: 100%|██████████| 42932/42932 [00:21<00:00, 1957.57it/s]\n"
     ]
    },
    {
     "name": "stdout",
     "output_type": "stream",
     "text": [
      "\u001b[34m\u001b[1mtrain: \u001b[0mNew cache created: D:\\NX Hackathon\\Dataset\\Violence\\labels\\train.cache\n",
      "WARNING  Box and segment counts should be equal, but got len(segments) = 3646, len(boxes) = 43061. To resolve this only boxes will be used and all segments will be removed. To avoid this please supply either a detect or segment dataset, not a detect-segment mixed dataset.\n"
     ]
    },
    {
     "name": "stderr",
     "output_type": "stream",
     "text": [
      "\u001b[34m\u001b[1mval: \u001b[0mScanning D:\\NX Hackathon\\Dataset\\Violence\\labels\\val... 5366 images, 65 backgrounds, 0 corrupt: 100%|██████████| 5366/5366 [00:03<00:00, 1395.95it/s]"
     ]
    },
    {
     "name": "stdout",
     "output_type": "stream",
     "text": [
      "\u001b[34m\u001b[1mval: \u001b[0mNew cache created: D:\\NX Hackathon\\Dataset\\Violence\\labels\\val.cache\n",
      "WARNING  Box and segment counts should be equal, but got len(segments) = 443, len(boxes) = 5400. To resolve this only boxes will be used and all segments will be removed. To avoid this please supply either a detect or segment dataset, not a detect-segment mixed dataset.\n"
     ]
    },
    {
     "name": "stderr",
     "output_type": "stream",
     "text": [
      "\n"
     ]
    },
    {
     "name": "stdout",
     "output_type": "stream",
     "text": [
      "Plotting labels to runs\\detect\\train15\\labels.jpg... \n",
      "\u001b[34m\u001b[1moptimizer:\u001b[0m 'optimizer=auto' found, ignoring 'lr0=0.01' and 'momentum=0.937' and determining best 'optimizer', 'lr0' and 'momentum' automatically... \n",
      "\u001b[34m\u001b[1moptimizer:\u001b[0m AdamW(lr=0.002, momentum=0.9) with parameter groups 106 weight(decay=0.0), 113 weight(decay=0.0005), 112 bias(decay=0.0)\n",
      "\u001b[34m\u001b[1mTensorBoard: \u001b[0mmodel graph visualization added \n",
      "Image sizes 640 train, 640 val\n",
      "Using 8 dataloader workers\n",
      "Logging results to \u001b[1mruns\\detect\\train15\u001b[0m\n",
      "Starting training for 5 epochs...\n",
      "\n",
      "      Epoch    GPU_mem   box_loss   cls_loss   dfl_loss  Instances       Size\n"
     ]
    },
    {
     "name": "stderr",
     "output_type": "stream",
     "text": [
      "        1/5      9.63G      1.271      1.136      1.652         10        640: 100%|██████████| 2684/2684 [06:54<00:00,  6.48it/s]\n",
      "                 Class     Images  Instances      Box(P          R      mAP50  mAP50-95): 100%|██████████| 168/168 [00:23<00:00,  7.04it/s]"
     ]
    },
    {
     "name": "stdout",
     "output_type": "stream",
     "text": [
      "                   all       5366       5400      0.843      0.759      0.862      0.506\n"
     ]
    },
    {
     "name": "stderr",
     "output_type": "stream",
     "text": [
      "\n"
     ]
    },
    {
     "name": "stdout",
     "output_type": "stream",
     "text": [
      "\n",
      "      Epoch    GPU_mem   box_loss   cls_loss   dfl_loss  Instances       Size\n"
     ]
    },
    {
     "name": "stderr",
     "output_type": "stream",
     "text": [
      "        2/5      8.36G      1.187      1.003      1.562          7        640: 100%|██████████| 2684/2684 [06:35<00:00,  6.79it/s]\n",
      "                 Class     Images  Instances      Box(P          R      mAP50  mAP50-95): 100%|██████████| 168/168 [00:23<00:00,  7.06it/s]"
     ]
    },
    {
     "name": "stdout",
     "output_type": "stream",
     "text": [
      "                   all       5366       5400      0.899      0.783      0.904      0.592\n"
     ]
    },
    {
     "name": "stderr",
     "output_type": "stream",
     "text": [
      "\n"
     ]
    },
    {
     "name": "stdout",
     "output_type": "stream",
     "text": [
      "\n",
      "      Epoch    GPU_mem   box_loss   cls_loss   dfl_loss  Instances       Size\n"
     ]
    },
    {
     "name": "stderr",
     "output_type": "stream",
     "text": [
      "        3/5       8.4G      1.131     0.9316      1.511         12        640: 100%|██████████| 2684/2684 [06:29<00:00,  6.88it/s]\n",
      "                 Class     Images  Instances      Box(P          R      mAP50  mAP50-95): 100%|██████████| 168/168 [00:23<00:00,  7.07it/s]"
     ]
    },
    {
     "name": "stdout",
     "output_type": "stream",
     "text": [
      "                   all       5366       5400      0.895      0.858      0.934      0.632\n"
     ]
    },
    {
     "name": "stderr",
     "output_type": "stream",
     "text": [
      "\n"
     ]
    },
    {
     "name": "stdout",
     "output_type": "stream",
     "text": [
      "\n",
      "      Epoch    GPU_mem   box_loss   cls_loss   dfl_loss  Instances       Size\n"
     ]
    },
    {
     "name": "stderr",
     "output_type": "stream",
     "text": [
      "        4/5      9.01G      1.059     0.8394       1.45          7        640: 100%|██████████| 2684/2684 [06:26<00:00,  6.95it/s]\n",
      "                 Class     Images  Instances      Box(P          R      mAP50  mAP50-95): 100%|██████████| 168/168 [00:23<00:00,  7.05it/s]"
     ]
    },
    {
     "name": "stdout",
     "output_type": "stream",
     "text": [
      "                   all       5366       5400      0.936      0.892      0.959      0.693\n"
     ]
    },
    {
     "name": "stderr",
     "output_type": "stream",
     "text": [
      "\n"
     ]
    },
    {
     "name": "stdout",
     "output_type": "stream",
     "text": [
      "\n",
      "      Epoch    GPU_mem   box_loss   cls_loss   dfl_loss  Instances       Size\n"
     ]
    },
    {
     "name": "stderr",
     "output_type": "stream",
     "text": [
      "        5/5      8.74G     0.9767     0.7336      1.386          7        640: 100%|██████████| 2684/2684 [06:41<00:00,  6.68it/s]\n",
      "                 Class     Images  Instances      Box(P          R      mAP50  mAP50-95): 100%|██████████| 168/168 [00:24<00:00,  6.74it/s]"
     ]
    },
    {
     "name": "stdout",
     "output_type": "stream",
     "text": [
      "                   all       5366       5400      0.952      0.915      0.972       0.73\n"
     ]
    },
    {
     "name": "stderr",
     "output_type": "stream",
     "text": [
      "\n"
     ]
    },
    {
     "name": "stdout",
     "output_type": "stream",
     "text": [
      "\n",
      "5 epochs completed in 0.587 hours.\n",
      "Optimizer stripped from runs\\detect\\train15\\weights\\last.pt, 40.5MB\n",
      "Optimizer stripped from runs\\detect\\train15\\weights\\best.pt, 40.5MB\n",
      "\n",
      "Validating runs\\detect\\train15\\weights\\best.pt...\n",
      "Ultralytics 8.3.75  Python-3.12.9 torch-2.6.0+cu128.nv CUDA:0 (NVIDIA GeForce RTX 5080, 16303MiB)\n",
      "YOLO11m summary (fused): 303 layers, 20,030,803 parameters, 0 gradients, 67.6 GFLOPs\n"
     ]
    },
    {
     "name": "stderr",
     "output_type": "stream",
     "text": [
      "                 Class     Images  Instances      Box(P          R      mAP50  mAP50-95): 100%|██████████| 168/168 [00:24<00:00,  6.82it/s]\n"
     ]
    },
    {
     "name": "stdout",
     "output_type": "stream",
     "text": [
      "                   all       5366       5400      0.952      0.915      0.972       0.73\n",
      "Speed: 0.0ms preprocess, 2.3ms inference, 0.0ms loss, 0.5ms postprocess per image\n",
      "Results saved to \u001b[1mruns\\detect\\train15\u001b[0m\n"
     ]
    },
    {
     "data": {
      "text/markdown": [
       "✅ **Training completed!**"
      ],
      "text/plain": [
       "<IPython.core.display.Markdown object>"
      ]
     },
     "metadata": {},
     "output_type": "display_data"
    }
   ],
   "source": [
    "train_yolov11()"
   ]
  },
  {
   "cell_type": "code",
   "execution_count": 13,
   "metadata": {},
   "outputs": [
    {
     "name": "stdout",
     "output_type": "stream",
     "text": [
      "Ultralytics 8.3.75  Python-3.12.9 torch-2.6.0+cu128.nv CPU (AMD Ryzen 7 9800X3D 8-Core Processor)\n",
      "YOLO11l summary (fused): 464 layers, 25,280,083 parameters, 0 gradients, 86.6 GFLOPs\n",
      "\n",
      "\u001b[34m\u001b[1mPyTorch:\u001b[0m starting from 'G:\\Drive ca ti\\FPT Uni\\NX Hackathon\\HumanDetection Model\\Yolov11l_20Epoch\\best.pt' with input shape (1, 3, 640, 640) BCHW and output shape(s) (1, 5, 8400) (48.8 MB)\n",
      "\n",
      "\u001b[34m\u001b[1mONNX:\u001b[0m starting export with onnx 1.17.0 opset 16...\n",
      "\u001b[34m\u001b[1mONNX:\u001b[0m slimming with onnxslim 0.1.48...\n",
      "\u001b[34m\u001b[1mONNX:\u001b[0m export success  1.8s, saved as 'G:\\Drive ca ti\\FPT Uni\\NX Hackathon\\HumanDetection Model\\Yolov11l_20Epoch\\best.onnx' (96.8 MB)\n",
      "\n",
      "Export complete (2.3s)\n",
      "Results saved to \u001b[1mG:\\Drive ca ti\\FPT Uni\\NX Hackathon\\HumanDetection Model\\Yolov11l_20Epoch\u001b[0m\n",
      "Predict:         yolo predict task=detect model=G:\\Drive ca ti\\FPT Uni\\NX Hackathon\\HumanDetection Model\\Yolov11l_20Epoch\\best.onnx imgsz=640  \n",
      "Validate:        yolo val task=detect model=G:\\Drive ca ti\\FPT Uni\\NX Hackathon\\HumanDetection Model\\Yolov11l_20Epoch\\best.onnx imgsz=640 data=E:\\Dataset\\Human Detection\\human_dataset.yaml  \n",
      "Visualize:       https://netron.app\n"
     ]
    },
    {
     "data": {
      "text/plain": [
       "'G:\\\\Drive của tôi\\\\FPT Uni\\\\NX Hackathon\\\\HumanDetection Model\\\\Yolov11l_20Epoch\\\\best.onnx'"
      ]
     },
     "execution_count": 13,
     "metadata": {},
     "output_type": "execute_result"
    }
   ],
   "source": [
    "from ultralytics import YOLO\n",
    "\n",
    "# Load trained model\n",
    "model = YOLO(r\"G:\\Drive của tôi\\FPT Uni\\NX Hackathon\\HumanDetection Model\\Yolov11l_20Epoch\\best.pt\")\n",
    "\n",
    "# Export model to ONNX format\n",
    "model.export(format=\"onnx\",opset=16)\n"
   ]
  }
 ],
 "metadata": {
  "kernelspec": {
   "display_name": "Python 3",
   "language": "python",
   "name": "python3"
  },
  "language_info": {
   "codemirror_mode": {
    "name": "ipython",
    "version": 3
   },
   "file_extension": ".py",
   "mimetype": "text/x-python",
   "name": "python",
   "nbconvert_exporter": "python",
   "pygments_lexer": "ipython3",
   "version": "3.12.9"
  }
 },
 "nbformat": 4,
 "nbformat_minor": 2
}
